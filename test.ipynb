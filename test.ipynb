{
 "cells": [
  {
   "cell_type": "markdown",
   "id": "e6175aba42d9bb8c",
   "metadata": {},
   "source": [
    "# 📊 数据分析与机器学习示例\n",
    "\n",
    "- **步骤 1：** 创建并分析示例数据\n",
    "- **步骤 2：** 构建一个简单的线性回归模型\n",
    "- **步骤 3：** 使用交互式小工具演示\n",
    "\n",
    "本 Notebook 展示了如何使用 Python 进行数据处理、模型训练和可视化操作。\n"
   ]
  },
  {
   "cell_type": "code",
   "execution_count": null,
   "id": "fa4cdf529f89dfed",
   "metadata": {
    "ExecuteTime": {
     "end_time": "2024-12-26T14:13:19.589512Z",
     "start_time": "2024-12-26T14:13:18.864896Z"
    }
   },
   "outputs": [],
   "source": [
    "# 导入库\n",
    "import pandas as pd\n",
    "import numpy as np\n",
    "import matplotlib.pyplot as plt\n",
    "from sklearn.linear_model import LinearRegression\n",
    "from sklearn.model_selection import train_test_split\n",
    "from sklearn.metrics import mean_squared_error\n",
    "import ipywidgets as widgets\n",
    "from IPython.display import display\n",
    "\n",
    "# 设置 Matplotlib 支持中文（可选）\n",
    "plt.rcParams['font.sans-serif'] = ['SimHei']  # 使用黑体\n",
    "plt.rcParams['axes.unicode_minus'] = False  # 负号正常显示\n",
    "\n",
    "\n",
    "# 创建一个简单的数据集\n",
    "data = {\n",
    "    '日期': pd.date_range(start='2024-numpy-numpy', periods=10, freq='D'),\n",
    "    '销售额': np.random.randint(100, 500, 10)\n",
    "}\n",
    "\n",
    "# 转换为 Pandas DataFrame\n",
    "df = pd.DataFrame(data)\n",
    "\n",
    "# 打印数据预览\n",
    "print(\"数据预览：\")\n",
    "print(df)\n",
    "\n",
    "# 绘制销售额折线图\n",
    "plt.figure(figsize=(10, 6))\n",
    "plt.plot(df['日期'], df['销售额'], marker='o', linestyle='-', color='b')\n",
    "plt.title('每日销售额趋势')\n",
    "plt.xlabel('日期')\n",
    "plt.ylabel('销售额')\n",
    "plt.xticks(rotation=45)\n",
    "plt.grid(True)\n",
    "plt.show()\n",
    "\n",
    "\n",
    "# 生成示例数据（特征X和目标变量y）\n",
    "X = np.random.rand(100, 1) * 10  # 特征\n",
    "y = 3 * X.squeeze() + np.random.randn(100) * 2  # 目标变量（带噪声的线性关系）\n",
    "\n",
    "# 分割数据集\n",
    "X_train, X_test, y_train, y_test = train_test_split(X, y, test_size=0.2, random_state=42)\n",
    "\n",
    "# 创建线性回归模型并训练\n",
    "model = LinearRegression()\n",
    "model.fit(X_train, y_train)\n",
    "\n",
    "# 使用模型预测\n",
    "y_pred = model.predict(X_test)\n",
    "\n",
    "# 评估模型\n",
    "mse = mean_squared_error(y_test, y_pred)\n",
    "print(f\"均方误差 (MSE): {mse:.2f}\")\n",
    "\n",
    "# 可视化预测结果\n",
    "plt.scatter(X_test, y_test, color='blue', label='真实值')\n",
    "plt.plot(X_test, y_pred, color='red', label='预测值')\n",
    "plt.title('线性回归示例')\n",
    "plt.xlabel('特征')\n",
    "plt.ylabel('目标变量')\n",
    "plt.legend()\n",
    "plt.show()\n",
    "\n",
    "\n",
    "# 创建一个交互式小工具：滑块\n",
    "slider = widgets.IntSlider(value=10, min=1, max=100, step=1, description='选择数字:')\n",
    "display(slider)\n",
    "\n",
    "\n",
    "\n"
   ]
  },
  {
   "cell_type": "code",
   "execution_count": null,
   "id": "5f1be40d09a1a3d2",
   "metadata": {
    "ExecuteTime": {
     "end_time": "2024-12-26T14:28:16.909051Z",
     "start_time": "2024-12-26T14:28:16.894499Z"
    }
   },
   "outputs": [],
   "source": [
    "import pandas as pd\n",
    "# 创建一个示例 DataFrame\n",
    "data = {\n",
    "    '姓名': ['张三', '李四', '王五'],\n",
    "    '年龄': [25, 30, 35],\n",
    "    '城市': ['北京', '上海', '广州']\n",
    "}\n",
    "df = pd.DataFrame(data)\n",
    "display(df)\n",
    "\n",
    "\n"
   ]
  },
  {
   "cell_type": "code",
   "execution_count": null,
   "id": "cc82bc89ca704b1b",
   "metadata": {
    "ExecuteTime": {
     "end_time": "2024-12-27T10:17:53.718770Z",
     "start_time": "2024-12-27T10:17:53.713329Z"
    }
   },
   "outputs": [],
   "source": [
    "import numpy as np\n",
    "\n",
    "a = np.ones(3, dtype=np.int32)\n",
    "b = np.linspace(0, np.pi, 3)\n",
    "print(b.dtype.name)\n",
    "c = a + b\n",
    "print(c.dtype.name)\n",
    "d = np.exp(c * 1j) # d 是一个复数数组\n",
    "print(d.dtype.name)\n",
    "print(d)"
   ]
  },
  {
   "cell_type": "code",
   "execution_count": null,
   "id": "8b8032d0edb40c41",
   "metadata": {
    "ExecuteTime": {
     "end_time": "2024-12-28T10:00:27.498186Z",
     "start_time": "2024-12-28T10:00:25.911185Z"
    }
   },
   "outputs": [],
   "source": [
    "import numpy as np\n",
    "import matplotlib.pyplot as plt\n",
    "def mandelbrot(h, w, maxit=20, r=2):\n",
    "    \"\"\"Returns an image of the Mandelbrot fractal of size (h,w).\"\"\"\n",
    "    x = np.linspace(-2.5, 1.5, 4*h+1)\n",
    "    y = np.linspace(-1.5, 1.5, 3*w+1)\n",
    "    A, B = np.meshgrid(x, y)\n",
    "    C = A + B*1j\n",
    "    z = np.zeros_like(C)\n",
    "    divtime = maxit + np.zeros(z.shape, dtype=int)\n",
    "    for i in range(maxit):\n",
    "        z = z**2 + C\n",
    "        diverge = abs(z) > r                    # who is diverging\n",
    "        div_now = diverge & (divtime == maxit)  # who is diverging now\n",
    "        divtime[div_now] = i                    # note when\n",
    "        z[diverge] = r                          # avoid diverging too much\n",
    "    return divtime\n",
    "plt.clf()\n",
    "plt.imshow(mandelbrot(400, 400))"
   ]
  }
 ],
 "metadata": {
  "kernelspec": {
   "display_name": "Python [conda env:base] *",
   "language": "python",
   "name": "conda-base-py"
  },
  "language_info": {
   "codemirror_mode": {
    "name": "ipython",
    "version": 3
   },
   "file_extension": ".py",
   "mimetype": "text/x-python",
   "name": "python",
   "nbconvert_exporter": "python",
   "pygments_lexer": "ipython3",
   "version": "3.12.3"
  }
 },
 "nbformat": 4,
 "nbformat_minor": 5
}
