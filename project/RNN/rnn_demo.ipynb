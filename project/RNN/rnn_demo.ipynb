{
 "cells": [
  {
   "cell_type": "markdown",
   "metadata": {},
   "source": [
    "# RNN 时间序列预测演示\n",
    "\n",
    "本Notebook展示了使用RNN进行时间序列预测的完整流程：\n",
    "1. 数据集的梳理和预处理\n",
    "2. 模型构建和训练\n",
    "3. 模型预测\n",
    "4. 模型评估和可视化\n",
    "\n",
    "**注意**: 运行前请确保已安装所有依赖包：`pip install -r requirements.txt`"
   ]
  },
  {
   "cell_type": "code",
   "execution_count": null,
   "metadata": {},
   "outputs": [],
   "source": [
    "# 导入必要的库\n",
    "import numpy as np\n",
    "import matplotlib.pyplot as plt\n",
    "import torch\n",
    "import warnings\n",
    "warnings.filterwarnings('ignore')\n",
    "\n",
    "# 导入自定义模块\n",
    "from data_processor import DataProcessor\n",
    "from rnn_model import SimpleRNN, LSTMModel, RNNTrainer\n",
    "\n",
    "# 设置中文字体\n",
    "plt.rcParams['font.sans-serif'] = ['SimHei', 'DejaVu Sans']\n",
    "plt.rcParams['axes.unicode_minus'] = False\n",
    "\n",
    "# 设置随机种子\n",
    "np.random.seed(42)\n",
    "torch.manual_seed(42)\n",
    "\n",
    "print(\"环境设置完成！\")"
   ]
  },
  {
   "cell_type": "markdown",
   "metadata": {},
   "source": [
    "## 第一步：数据集的梳理和预处理"
   ]
  },
  {
   "cell_type": "code",
   "execution_count": null,
   "metadata": {},
   "outputs": [],
   "source": [
    "# 创建数据处理器\n",
    "sequence_length = 20\n",
    "processor = DataProcessor(sequence_length=sequence_length)\n",
    "\n",
    "# 生成示例时间序列数据\n",
    "print(\"1.1 生成示例数据...\")\n",
    "data = processor.generate_sample_data(n_samples=1000)\n",
    "\n",
    "# 显示数据基本信息\n",
    "info = processor.get_data_info()\n",
    "print(\"\\n数据集基本信息:\")\n",
    "for key, value in info.items():\n",
    "    print(f\"  {key}: {value}\")"
   ]
  },
  {
   "cell_type": "code",
   "execution_count": null,
   "metadata": {},
   "outputs": [],
   "source": [
    "# 数据归一化\n",
    "print(\"1.2 数据归一化...\")\n",
    "scaled_data = processor.normalize_data()\n",
    "\n",
    "# 可视化原始数据\n",
    "processor.visualize_data(n_points=300)"
   ]
  },
  {
   "cell_type": "code",
   "execution_count": null,
   "metadata": {},
   "outputs": [],
   "source": [
    "# 创建时间序列数据集\n",
    "print(\"1.3 创建时间序列数据集...\")\n",
    "X, y = processor.create_sequences()\n",
    "\n",
    "# 分割数据集\n",
    "print(\"1.4 分割数据集...\")\n",
    "X_temp, X_test, y_temp, y_test = processor.split_data(X, y, test_size=0.2, random_state=42)\n",
    "X_train, X_val, y_train, y_val = processor.split_data(X_temp, y_temp, test_size=0.25, random_state=42)\n",
    "\n",
    "print(f\"  训练集: {X_train.shape[0]} 样本\")\n",
    "print(f\"  验证集: {X_val.shape[0]} 样本\")\n",
    "print(f\"  测试集: {X_test.shape[0]} 样本\")"
   ]
  },
  {
   "cell_type": "markdown",
   "metadata": {},
   "source": [
    "## 第二步：模型构建和训练"
   ]
  },
  {
   "cell_type": "code",
   "execution_count": null,
   "metadata": {},
   "outputs": [],
   "source": [
    "# 训练配置\n",
    "config = {\n",
    "    'input_size': 1,\n",
    "    'hidden_size': 64,\n",
    "    'num_layers': 2,\n",
    "    'output_size': 1,\n",
    "    'dropout': 0.2,\n",
    "    'epochs': 50,  # Notebook中使用较少的轮数\n",
    "    'batch_size': 32,\n",
    "    'learning_rate': 0.001,\n",
    "    'patience': 10\n",
    "}\n",
    "\n",
    "print(\"模型配置:\")\n",
    "for key, value in config.items():\n",
    "    print(f\"  {key}: {value}\")"
   ]
  },
  {
   "cell_type": "code",
   "execution_count": null,
   "metadata": {},
   "outputs": [],
   "source": [
    "# 创建和训练Simple RNN模型\n",
    "print(\"训练 Simple RNN 模型...\")\n",
    "\n",
    "rnn_model = SimpleRNN(\n",
    "    input_size=config['input_size'],\n",
    "    hidden_size=config['hidden_size'],\n",
    "    num_layers=config['num_layers'],\n",
    "    output_size=config['output_size'],\n",
    "    dropout=config['dropout']\n",
    ")\n",
    "\n",
    "rnn_trainer = RNNTrainer(rnn_model)\n",
    "\n",
    "# 显示模型参数数量\n",
    "total_params = sum(p.numel() for p in rnn_model.parameters())\n",
    "print(f\"模型参数数量: {total_params:,}\")"
   ]
  },
  {
   "cell_type": "code",
   "execution_count": null,
   "metadata": {},
   "outputs": [],
   "source": [
    "# 训练RNN模型\n",
    "rnn_trainer.train(\n",
    "    X_train, y_train, X_val, y_val,\n",
    "    epochs=config['epochs'],\n",
    "    batch_size=config['batch_size'],\n",
    "    learning_rate=config['learning_rate'],\n",
    "    patience=config['patience'],\n",
    "    save_path='best_rnn_model.pth'\n",
    ")"
   ]
  },
  {
   "cell_type": "code",
   "execution_count": null,
   "metadata": {},
   "outputs": [],
   "source": [
    "# 绘制RNN训练历史\n",
    "rnn_trainer.plot_training_history()"
   ]
  },
  {
   "cell_type": "code",
   "execution_count": null,
   "metadata": {},
   "outputs": [],
   "source": [
    "# 创建和训练LSTM模型\n",
    "print(\"训练 LSTM 模型...\")\n",
    "\n",
    "lstm_model = LSTMModel(\n",
    "    input_size=config['input_size'],\n",
    "    hidden_size=config['hidden_size'],\n",
    "    num_layers=config['num_layers'],\n",
    "    output_size=config['output_size'],\n",
    "    dropout=config['dropout']\n",
    ")\n",
    "\n",
    "lstm_trainer = RNNTrainer(lstm_model)\n",
    "\n",
    "# 训练LSTM模型\n",
    "lstm_trainer.train(\n",
    "    X_train, y_train, X_val, y_val,\n",
    "    epochs=config['epochs'],\n",
    "    batch_size=config['batch_size'],\n",
    "    learning_rate=config['learning_rate'],\n",
    "    patience=config['patience'],\n",
    "    save_path='best_lstm_model.pth'\n",
    ")"
   ]
  },
  {
   "cell_type": "code",
   "execution_count": null,
   "metadata": {},
   "outputs": [],
   "source": [
    "# 绘制LSTM训练历史\n",
    "lstm_trainer.plot_training_history()"
   ]
  },
  {
   "cell_type": "markdown",
   "metadata": {},
   "source": [
    "## 第三步：模型预测和评估"
   ]
  },
  {
   "cell_type": "code",
   "execution_count": null,
   "metadata": {},
   "outputs": [],
   "source": [
    "# 评估RNN模型\n",
    "print(\"评估 Simple RNN 模型性能...\")\n",
    "rnn_metrics, rnn_pred = rnn_trainer.evaluate(X_test, y_test)\n",
    "\n",
    "# 评估LSTM模型\n",
    "print(\"\\n评估 LSTM 模型性能...\")\n",
    "lstm_metrics, lstm_pred = lstm_trainer.evaluate(X_test, y_test)"
   ]
  },
  {
   "cell_type": "code",
   "execution_count": null,
   "metadata": {},
   "outputs": [],
   "source": [
    "# 模型性能对比\n",
    "import pandas as pd\n",
    "\n",
    "comparison_df = pd.DataFrame({\n",
    "    'Simple RNN': [rnn_metrics['MSE'], rnn_metrics['RMSE'], rnn_metrics['MAE'], rnn_metrics['MAPE']],\n",
    "    'LSTM': [lstm_metrics['MSE'], lstm_metrics['RMSE'], lstm_metrics['MAE'], lstm_metrics['MAPE']]\n",
    "}, index=['MSE', 'RMSE', 'MAE', 'MAPE'])\n",
    "\n",
    "print(\"模型性能对比:\")\n",
    "print(comparison_df)"
   ]
  },
  {
   "cell_type": "code",
   "execution_count": null,
   "metadata": {},
   "outputs": [],
   "source": [
    "# 可视化RNN预测结果\n",
    "y_test_original = processor.inverse_transform(y_test)\n",
    "rnn_pred_original = processor.inverse_transform(rnn_pred)\n",
    "\n",
    "print(\"RNN 预测结果可视化:\")\n",
    "rnn_trainer.plot_predictions(y_test_original.flatten(), rnn_pred_original.flatten(), n_points=150)"
   ]
  },
  {
   "cell_type": "code",
   "execution_count": null,
   "metadata": {},
   "outputs": [],
   "source": [
    "# 可视化LSTM预测结果\n",
    "lstm_pred_original = processor.inverse_transform(lstm_pred)\n",
    "\n",
    "print(\"LSTM 预测结果可视化:\")\n",
    "lstm_trainer.plot_predictions(y_test_original.flatten(), lstm_pred_original.flatten(), n_points=150)"
   ]
  },
  {
   "cell_type": "markdown",
   "metadata": {},
   "source": [
    "## 第四步：未来预测演示"
   ]
  },
  {
   "cell_type": "code",
   "execution_count": null,
   "metadata": {},
   "outputs": [],
   "source": [
    "def predict_future(trainer, last_sequence, steps):\n",
    "    \"\"\"进行多步未来预测\"\"\"\n",
    "    predictions = []\n",
    "    current_sequence = last_sequence.copy()\n",
    "    \n",
    "    for _ in range(steps):\n",
    "        # 预测下一个值\n",
    "        next_pred = trainer.predict(current_sequence)\n",
    "        predictions.append(next_pred[0])\n",
    "        \n",
    "        # 更新序列\n",
    "        new_sequence = np.zeros_like(current_sequence)\n",
    "        new_sequence[0, :-1, :] = current_sequence[0, 1:, :]\n",
    "        new_sequence[0, -1, 0] = next_pred[0]\n",
    "        current_sequence = new_sequence\n",
    "    \n",
    "    return np.array(predictions)\n",
    "\n",
    "# 选择最佳模型进行未来预测\n",
    "best_model_name = 'LSTM' if lstm_metrics['RMSE'] < rnn_metrics['RMSE'] else 'Simple RNN'\n",
    "best_trainer = lstm_trainer if best_model_name == 'LSTM' else rnn_trainer\n",
    "\n",
    "print(f\"使用最佳模型 ({best_model_name}) 进行未来预测...\")\n",
    "\n",
    "# 进行未来30步预测\n",
    "future_steps = 30\n",
    "future_predictions = predict_future(best_trainer, X_test[-1:], future_steps)\n",
    "\n",
    "print(f\"完成未来 {future_steps} 步预测\")"
   ]
  },
  {
   "cell_type": "code",
   "execution_count": null,
   "metadata": {},
   "outputs": [],
   "source": [
    "# 可视化未来预测结果\n",
    "future_original = processor.inverse_transform(future_predictions)\n",
    "\n",
    "plt.figure(figsize=(15, 8))\n",
    "\n",
    "# 显示最后100个测试点和未来预测\n",
    "n_show = min(100, len(y_test_original))\n",
    "\n",
    "# 测试集数据\n",
    "test_x = range(len(y_test_original) - n_show, len(y_test_original))\n",
    "test_y = y_test_original[-n_show:].flatten()\n",
    "\n",
    "# 未来预测数据\n",
    "future_x = range(len(y_test_original), len(y_test_original) + future_steps)\n",
    "future_y = future_original.flatten()\n",
    "\n",
    "plt.plot(test_x, test_y, label='历史数据', color='blue', linewidth=2)\n",
    "plt.plot(future_x, future_y, label=f'未来预测 ({future_steps}步)', \n",
    "         color='red', linewidth=2, linestyle='--')\n",
    "\n",
    "# 添加分界线\n",
    "plt.axvline(x=len(y_test_original)-1, color='green', linestyle=':', \n",
    "            linewidth=2, label='预测起点')\n",
    "\n",
    "plt.title('时间序列未来预测', fontsize=16)\n",
    "plt.xlabel('时间步')\n",
    "plt.ylabel('数值')\n",
    "plt.legend()\n",
    "plt.grid(True, alpha=0.3)\n",
    "\n",
    "# 添加预测区域阴影\n",
    "plt.fill_between(future_x, future_y, alpha=0.3, color='red')\n",
    "\n",
    "plt.tight_layout()\n",
    "plt.show()\n",
    "\n",
    "print(f\"\\n未来 {future_steps} 步预测统计:\")\n",
    "print(f\"  预测均值: {np.mean(future_original):.4f}\")\n",
    "print(f\"  预测标准差: {np.std(future_original):.4f}\")\n",
    "print(f\"  预测范围: [{np.min(future_original):.4f}, {np.max(future_original):.4f}]\")"
   ]
  },
  {
   "cell_type": "markdown",
   "metadata": {},
   "source": [
    "## 总结\n",
    "\n",
    "通过本演示，我们完成了：\n",
    "\n",
    "1. **数据处理**: 生成时间序列数据，进行归一化和序列化处理\n",
    "2. **模型训练**: 训练了Simple RNN和LSTM两种模型\n",
    "3. **模型评估**: 使用多种指标评估模型性能\n",
    "4. **预测可视化**: 展示了预测结果和未来预测\n",
    "\n",
    "### 实验建议\n",
    "\n",
    "你可以尝试：\n",
    "- 调整模型参数（隐藏层大小、层数等）\n",
    "- 修改序列长度\n",
    "- 使用不同的数据集\n",
    "- 添加更多的特征工程\n",
    "- 尝试其他RNN变体（如GRU）"
   ]
  }
 ],
 "metadata": {
  "kernelspec": {
   "display_name": "Python 3",
   "language": "python",
   "name": "python3"
  },
  "language_info": {
   "codemirror_mode": {
    "name": "ipython",
    "version": 3
   },
   "file_extension": ".py",
   "mimetype": "text/x-python",
   "name": "python",
   "nbconvert_exporter": "python",
   "pygments_lexer": "ipython3",
   "version": "3.8.0"
  }
 },
 "nbformat": 4,
 "nbformat_minor": 4
}