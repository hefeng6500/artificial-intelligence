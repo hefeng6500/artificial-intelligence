import numpy as np

a = np.array([1, 2, 3])

print(a)
print(a.dtype) # 类型
print(a.ndim) # 维度
print(a.size) # 元素个数
print(a.itemsize) # 每个元素的字节数
print(a.nbytes) # 总字节数



