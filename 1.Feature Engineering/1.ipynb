{
 "cells": [
  {
   "cell_type": "code",
   "execution_count": null,
   "id": "6c851bdb",
   "metadata": {},
   "outputs": [],
   "source": [
    "from sklearn.feature_selection import VarianceThreshold\n",
    "import numpy as np\n",
    "import pandas as pd\n",
    "\n",
    "# 构造示例数据\n",
    "data = {\n",
    "    'feature_1': [0, 0, 0, 0, 0],\n",
    "    'feature_2': [1, 1, 1, 1, 1],\n",
    "    'feature_3': [0, 1, 0, 1, 0],\n",
    "    'feature_4': [0.1, 0.1, 0.1, 0.1, 0.1],\n",
    "    'feature_5': [1, 2, 3, 4, 5]\n",
    "}\n",
    "df = pd.DataFrame(data)\n",
    "print(\"原始特征：\")\n",
    "print(df)\n",
    "\n",
    "# 设置阈值，过滤低于 0.01 方差的特征\n",
    "selector = VarianceThreshold(threshold=0.01)\n",
    "X_filtered = selector.fit_transform(df)\n",
    "\n",
    "# 获取保留的特征名\n",
    "selected_features = df.columns[selector.get_support()]\n",
    "print(\"\\n保留的特征：\")\n",
    "print(selected_features)\n",
    "\n",
    "print(\"\\n过滤后的数据：\")\n",
    "print(pd.DataFrame(X_filtered, columns=selected_features))\n"
   ]
  }
 ],
 "metadata": {
  "kernelspec": {
   "display_name": "python_3.10",
   "language": "python",
   "name": "python3"
  },
  "language_info": {
   "codemirror_mode": {
    "name": "ipython",
    "version": 3
   },
   "file_extension": ".py",
   "mimetype": "text/x-python",
   "name": "python",
   "nbconvert_exporter": "python",
   "pygments_lexer": "ipython3",
   "version": "3.10.13"
  }
 },
 "nbformat": 4,
 "nbformat_minor": 5
}
