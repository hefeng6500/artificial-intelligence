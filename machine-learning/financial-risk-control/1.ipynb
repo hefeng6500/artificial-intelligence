{
 "cells": [
  {
   "cell_type": "markdown",
   "metadata": {},
   "source": [
    "# 金融风控页面案例\n",
    "\n",
    "## 【实现】风控业务案例\n",
    "\n",
    "### 案例背景介绍\n",
    "\n",
    "- 通过对业务数据分析了解信贷业务状况\n",
    "- 数据集说明\n",
    "  - 从开源数据改造而来，基本反映真实业务数据\n",
    "  - 销售，客服可以忽略\n",
    "  - 账单周期，放款日期\n",
    "  - 账单金额-实收金额 = 未收金额\n",
    "  - 应付日期为还款时间\n",
    "  - 账期分成两种：60天和90天\n",
    "  - 实际到账日为空白，说明没还钱"
   ]
  },
  {
   "cell_type": "code",
   "execution_count": null,
   "metadata": {},
   "outputs": [],
   "source": [
    "import pandas as pd\n",
    "from pyecharts.charts import *\n",
    "from pyecharts import options as opts\n",
    "\n",
    "df1 = pd.read_excel('./data/业务数据.xls') \n",
    "\n",
    "# 要使用原始数据构建新指标，所以保留原始数据，copy新的数据，在新的数据中创建新指标\n",
    "df2 = df1.copy()\n",
    "\n",
    "# head() 输出前五条数据\n",
    "df2.head()"
   ]
  },
  {
   "cell_type": "code",
   "execution_count": null,
   "metadata": {},
   "outputs": [],
   "source": [
    "df2.info()"
   ]
  },
  {
   "cell_type": "code",
   "execution_count": null,
   "metadata": {},
   "outputs": [],
   "source": [
    "df2.describe()"
   ]
  },
  {
   "cell_type": "code",
   "execution_count": null,
   "metadata": {},
   "outputs": [],
   "source": [
    "# 获取最大的日期，作为当前时间\n",
    "today_time = pd.to_datetime(df2.实际到账日.fillna('0').max())\n",
    "\n",
    "#给缺失值填充0\n",
    "df2['实收金额'] = df2.实收金额.fillna(0)\n",
    "df2['开票金额'] = df2.开票金额.fillna(0)\n",
    "df2['未收金额'] = df2.未收金额.fillna(0)\n",
    "\n",
    "#把时间类型转换为datetime类型\n",
    "df2['账单周期'] = pd.to_datetime(df2.账单周期)\n",
    "df2['应付日期'] = pd.to_datetime(df2.应付日期)\n",
    "\n",
    "df2['实际到账日'] = pd.to_datetime(df2.实际到账日).fillna(today_time)"
   ]
  },
  {
   "cell_type": "code",
   "execution_count": null,
   "metadata": {},
   "outputs": [],
   "source": [
    "df2['是否到期'] = df2.apply(lambda x : 0 if x.应付日期 > today_time else 1,axis=1)\n",
    "\n",
    "#map可以看做是apply，效果类似\n",
    "df2['是否到期90天'] =  ( today_time - df2.应付日期 ).map(lambda x : 1 if x.days >= 90 else 0)\n",
    "\n",
    "df2['未收金额2'] =  (df2.账单金额 - df2.实收金额)\n",
    "\n",
    "df2['历史逾期天数'] = df2.apply(lambda x : (x.实际到账日 -  x.应付日期).days if x.未收金额2 == 0  else  (today_time - x.应付日期).days,axis=1)\n",
    "\n",
    "#df2['当前逾期天数'] = df2.apply(lambda x : (x.历史逾期天数) if x.未收金额2 > 0  else 0 ,axis = 1)\n",
    "df2['当前逾期天数'] = df2.apply(lambda x:(today_time - x['应付日期']).days if x['未收金额2'] > 0 else 0,axis=1)\n",
    "\n",
    "df2"
   ]
  },
  {
   "cell_type": "code",
   "execution_count": null,
   "metadata": {},
   "outputs": [],
   "source": [
    "df3 =df2.copy()\n",
    "#创建’账单季度‘字段，将日期转换成季度，to_period函数可以转换为季度信息\n",
    "df3['账单季度'] = df3['账单周期'].map(lambda x : x.to_period('Q'))\n",
    "#提取2017年3季度到2018年4季度数据\n",
    "df3 = df3[(df3['账单季度']<='2018Q4') & (df3['账单季度']>='2017Q3')]\n",
    "df3.shape\n",
    "\n",
    "df3\n"
   ]
  },
  {
   "cell_type": "code",
   "execution_count": null,
   "metadata": {},
   "outputs": [],
   "source": [
    "#账单金额\n",
    "fn1 = df3.groupby('账单季度')[['账单金额']].sum()\n",
    "fn1.columns = ['账单金额']\n",
    "fn1"
   ]
  },
  {
   "cell_type": "code",
   "execution_count": null,
   "metadata": {},
   "outputs": [],
   "source": [
    "#90天到期金额\n",
    "df4 = df3[(df3.是否到期90天 == 1)]\n",
    "\n",
    "fn2 = df4.groupby('账单季度')[['账单金额']].sum()\n",
    "fn2.columns = ['到期金额']\n",
    "fn2"
   ]
  },
  {
   "cell_type": "code",
   "execution_count": null,
   "metadata": {},
   "outputs": [],
   "source": [
    "#当前逾期90+金额\n",
    "df4 = df3[(df3.是否到期90天 == 1)]\n",
    "fn3 = df4.groupby('账单季度')[['未收金额2']].sum()\n",
    "fn3.columns = ['当前逾期90+金额']\n",
    "fn3"
   ]
  },
  {
   "cell_type": "code",
   "execution_count": null,
   "metadata": {},
   "outputs": [],
   "source": [
    "dfs = [fn1,fn2,fn3]\n",
    "final1 = pd.concat(dfs,axis=1)\n",
    "final1"
   ]
  },
  {
   "cell_type": "code",
   "execution_count": null,
   "metadata": {},
   "outputs": [],
   "source": [
    "final1['90+净坏账率'] = round(final1['当前逾期90+金额'] / final1.到期金额,3)\n",
    "final1"
   ]
  },
  {
   "cell_type": "code",
   "execution_count": null,
   "metadata": {},
   "outputs": [],
   "source": [
    "bar = (\n",
    "    Bar()\n",
    "    .add_xaxis(list(final1.index.values.astype(str)))\n",
    "    .add_yaxis(\n",
    "        \"账单金额\",\n",
    "        list(final1.账单金额),\n",
    "        yaxis_index=0,\n",
    "        color=\"#5793f3\",\n",
    "    )\n",
    "    .set_global_opts(\n",
    "        title_opts=opts.TitleOpts(title=\"90+净坏账率\"),\n",
    "    )\n",
    "    .extend_axis(\n",
    "        yaxis=opts.AxisOpts(\n",
    "            name=\"90+净坏账率\",\n",
    "            type_=\"value\",\n",
    "            min_=0,\n",
    "            max_=0.014,\n",
    "            position=\"right\",\n",
    "            axisline_opts=opts.AxisLineOpts(\n",
    "                linestyle_opts=opts.LineStyleOpts(color=\"#d14a61\")\n",
    "            ),\n",
    "            axislabel_opts=opts.LabelOpts(formatter=\"{value}\"),\n",
    "        )\n",
    "    )\n",
    ")\n",
    "line = (\n",
    "    Line()\n",
    "    .add_xaxis(list(final1.index.values.astype(str)))\n",
    "    .add_yaxis(\n",
    "        \"90+净坏账率\",\n",
    "        list(final1['90+净坏账率']),\n",
    "        yaxis_index=1,\n",
    "        color=\"#675bba\",\n",
    "        label_opts=opts.LabelOpts(is_show=False),\n",
    "    )\n",
    ")\n",
    "# 在 ./chart 目录下生成 90+净坏账率.html\n",
    "bar.overlap(line).render('./chart/90+净坏账率.html')"
   ]
  }
 ],
 "metadata": {
  "kernelspec": {
   "display_name": "python_3.10",
   "language": "python",
   "name": "python3"
  },
  "language_info": {
   "codemirror_mode": {
    "name": "ipython",
    "version": 3
   },
   "file_extension": ".py",
   "mimetype": "text/x-python",
   "name": "python",
   "nbconvert_exporter": "python",
   "pygments_lexer": "ipython3",
   "version": "3.10.13"
  }
 },
 "nbformat": 4,
 "nbformat_minor": 2
}
