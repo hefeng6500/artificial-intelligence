{
 "cells": [
  {
   "cell_type": "code",
   "execution_count": 5,
   "id": "initial_id",
   "metadata": {
    "ExecuteTime": {
     "end_time": "2024-12-27T10:26:24.178047Z",
     "start_time": "2024-12-27T10:26:24.063725Z"
    }
   },
   "outputs": [
    {
     "name": "stdout",
     "output_type": "stream",
     "text": [
      "[1 2 3]\n",
      "int32\n",
      "1\n",
      "3\n",
      "4\n",
      "12\n"
     ]
    }
   ],
   "source": [
    "import numpy as np\n",
    "\n",
    "a = np.array([1, 2, 3])\n",
    "\n",
    "print(a)\n",
    "print(a.dtype) # 类型\n",
    "print(a.ndim) # 维度\n",
    "print(a.size) # 元素个数\n",
    "print(a.itemsize) # 每个元素的字节数\n",
    "print(a.nbytes) # 总字节数"
   ]
  },
  {
   "cell_type": "code",
   "execution_count": null,
   "id": "77727d73-ceb2-4dc8-ab1e-13aaaf0a05a9",
   "metadata": {},
   "outputs": [],
   "source": []
  }
 ],
 "metadata": {
  "kernelspec": {
   "display_name": "Python [conda env:base] *",
   "language": "python",
   "name": "conda-base-py"
  }
 },
 "nbformat": 4,
 "nbformat_minor": 5
}
